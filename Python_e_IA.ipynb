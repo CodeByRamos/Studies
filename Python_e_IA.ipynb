{
  "nbformat": 4,
  "nbformat_minor": 0,
  "metadata": {
    "colab": {
      "provenance": [],
      "authorship_tag": "ABX9TyPnU5xso/JAkm2vvh07qqSQ",
      "include_colab_link": true
    },
    "kernelspec": {
      "name": "python3",
      "display_name": "Python 3"
    },
    "language_info": {
      "name": "python"
    }
  },
  "cells": [
    {
      "cell_type": "markdown",
      "metadata": {
        "id": "view-in-github",
        "colab_type": "text"
      },
      "source": [
        "<a href=\"https://colab.research.google.com/github/CodeByRamos/Studies/blob/main/Python_e_IA.ipynb\" target=\"_parent\"><img src=\"https://colab.research.google.com/assets/colab-badge.svg\" alt=\"Open In Colab\"/></a>"
      ]
    },
    {
      "cell_type": "code",
      "source": [
        "from google import genai\n",
        "import os\n",
        "client = genai.Client()\n",
        "from google.colab import userdata\n",
        "os.environ[\"GOOGLE_API_KEY\"] = userdata.get('GOOGLE_API_KEY')\n",
        "\n",
        "\n",
        "ChatBot = client.chats.create(model=\"gemini-2.5-flash\")\n",
        "print(\"-------------------------------------------\")\n",
        "print(\"MENU\")\n",
        "print(\"-------------------------------------------\")\n",
        "print(\"1- DIGITAR PERGUNTA\")\n",
        "print(\"2- SAIR\")\n",
        "\n",
        "opcao = int(input(\"Digite a sua opção: \"))\n",
        "\n",
        "while opcao != 2:\n",
        "    if opcao == 1:\n",
        "        pergunta = input(\"Digite sua pergunta: \")\n",
        "        resposta = ChatBot.send_message(pergunta)\n",
        "        print(\"Resposta:\", resposta.text)\n",
        "    else:\n",
        "        print(\"Opção inválida!\")\n",
        "    print(\"-------------------------------------------\")\n",
        "    print(\"MENU\")\n",
        "    print(\"-------------------------------------------\")\n",
        "    print(\"1- DIGITAR PERGUNTA\")\n",
        "    print(\"2- SAIR\")\n",
        "    opcao = int(input(\"Digite a sua opção: \"))\n",
        "\n",
        "print(\"Saindo do programa...\")\n",
        "\n"
      ],
      "metadata": {
        "id": "s-N6EmPHQHUd"
      },
      "execution_count": null,
      "outputs": []
    }
  ]
}